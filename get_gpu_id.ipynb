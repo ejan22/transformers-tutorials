{
 "cells": [
  {
   "cell_type": "code",
   "execution_count": 4,
   "id": "609b1c31-a982-4352-8e9d-deaa29182e8b",
   "metadata": {},
   "outputs": [],
   "source": [
    "import torch\n",
    "import numpy as np"
   ]
  },
  {
   "cell_type": "code",
   "execution_count": 18,
   "id": "4b23fdc7-685c-4440-b39d-d8af501d6867",
   "metadata": {},
   "outputs": [],
   "source": [
    "def get_most_free_gpu_id():\n",
    "    freememList = []\n",
    "    for i in range(torch.cuda.device_count()):\n",
    "        device = f'cuda:{i}'\n",
    "        free_mem, total_mem = torch.cuda.mem_get_info(device)\n",
    "        freememList.append(free_mem)\n",
    "    memList = np.array(freememList)\n",
    "    return int(np.argmax(memList)), memList/1e9\n",
    "        \n",
    "\n",
    "def get_device():\n",
    "    if torch.cuda.is_available():\n",
    "        id = get_most_free_gpu_id()[0]\n",
    "        return f'cuda:{id}'\n",
    "    else:\n",
    "        return 'cpu'\n",
    "        "
   ]
  },
  {
   "cell_type": "code",
   "execution_count": 20,
   "id": "31a89343-b2c6-43e7-8f8a-d6e4e0260563",
   "metadata": {},
   "outputs": [
    {
     "data": {
      "text/plain": [
       "'cuda:1'"
      ]
     },
     "execution_count": 20,
     "metadata": {},
     "output_type": "execute_result"
    }
   ],
   "source": [
    "get_device()"
   ]
  },
  {
   "cell_type": "code",
   "execution_count": 16,
   "id": "5c482f6f-424a-463e-bd2b-d1f38d7ce172",
   "metadata": {},
   "outputs": [
    {
     "data": {
      "text/plain": [
       "(1, array([ 0.25932595, 14.97851494, 14.61990195,  8.46685798]))"
      ]
     },
     "execution_count": 16,
     "metadata": {},
     "output_type": "execute_result"
    }
   ],
   "source": [
    "get_most_free_gpu_id()"
   ]
  },
  {
   "cell_type": "code",
   "execution_count": 5,
   "id": "ad2a8ed5-7048-47af-8787-a453a9334ea6",
   "metadata": {},
   "outputs": [
    {
     "data": {
      "text/plain": [
       "np.int64(3)"
      ]
     },
     "execution_count": 5,
     "metadata": {},
     "output_type": "execute_result"
    }
   ],
   "source": [
    "aa = np.array([1,1.5, 2,3, 1.2])\n",
    "np.argmax(aa)"
   ]
  },
  {
   "cell_type": "code",
   "execution_count": 6,
   "id": "307fb54b-203b-4cc2-9ea5-3c6c6d78582f",
   "metadata": {},
   "outputs": [
    {
     "data": {
      "text/plain": [
       "array([1. , 1.5, 2. , 3. , 1.2])"
      ]
     },
     "execution_count": 6,
     "metadata": {},
     "output_type": "execute_result"
    }
   ],
   "source": [
    "aa"
   ]
  },
  {
   "cell_type": "code",
   "execution_count": null,
   "id": "71cba843-cc0a-47be-84c6-c094f60c4d87",
   "metadata": {},
   "outputs": [],
   "source": []
  }
 ],
 "metadata": {
  "kernelspec": {
   "display_name": "Python 3 (ipykernel)",
   "language": "python",
   "name": "python3"
  },
  "language_info": {
   "codemirror_mode": {
    "name": "ipython",
    "version": 3
   },
   "file_extension": ".py",
   "mimetype": "text/x-python",
   "name": "python",
   "nbconvert_exporter": "python",
   "pygments_lexer": "ipython3",
   "version": "3.10.13"
  }
 },
 "nbformat": 4,
 "nbformat_minor": 5
}
